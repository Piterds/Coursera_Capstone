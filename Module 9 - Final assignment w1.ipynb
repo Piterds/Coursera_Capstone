{
 "cells": [
  {
   "cell_type": "markdown",
   "metadata": {},
   "source": [
    "# 1. Description of the problem and a discussion of the background <a id=\"4\"></a>"
   ]
  },
  {
   "cell_type": "markdown",
   "metadata": {},
   "source": [
    "The aim of this project is to use a data science approach to compare two of the most famous books of history. \n",
    "\n",
    "Comparing these books will offer a perspective of how they were written and what was their purpose. \n",
    "- Were they written with a similar vocabulary?\n",
    "- What are the most common words used in both books?\n",
    "- What are the main differences?\n",
    "\n",
    "The selected books are:\n",
    "- The Bible.\n",
    "- The Koran.\n",
    "\n",
    "This project used these books only with scientific reasons for this study with no other second objective in mind."
   ]
  },
  {
   "cell_type": "markdown",
   "metadata": {},
   "source": [
    "# 2. Description of the data and how it will be used to solve the problem <a id=\"4\"></a>"
   ]
  },
  {
   "cell_type": "markdown",
   "metadata": {},
   "source": [
    "The books will be extracted from the Gutenberg database (http://www.gutenberg.org/). \n",
    "\n",
    "They will be extrated in a \"txt\" file version in order to be able to manage the words.\n",
    "Firstly it will be generated a Word cloud to visually identify the similarities between them and after that a deeper analysis will be performed to search for the similarities and extract the conclusions."
   ]
  },
  {
   "cell_type": "code",
   "execution_count": null,
   "metadata": {},
   "outputs": [],
   "source": []
  }
 ],
 "metadata": {
  "kernelspec": {
   "display_name": "Python 3",
   "language": "python",
   "name": "python3"
  },
  "language_info": {
   "codemirror_mode": {
    "name": "ipython",
    "version": 3
   },
   "file_extension": ".py",
   "mimetype": "text/x-python",
   "name": "python",
   "nbconvert_exporter": "python",
   "pygments_lexer": "ipython3",
   "version": "3.6.8"
  }
 },
 "nbformat": 4,
 "nbformat_minor": 2
}
