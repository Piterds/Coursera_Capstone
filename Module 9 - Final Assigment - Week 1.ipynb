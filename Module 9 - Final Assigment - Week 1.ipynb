{
 "cells": [
  {
   "cell_type": "markdown",
   "metadata": {},
   "source": [
    "\n",
    "\n",
    "<h1 align=center><font size = 5>Segmenting Starbucks coffee shops in New York City</font></h1>"
   ]
  },
  {
   "cell_type": "markdown",
   "metadata": {},
   "source": [
    "# 1. Description of the problem and a discussion of the background <a id=\"4\"></a>"
   ]
  },
  {
   "cell_type": "markdown",
   "metadata": {},
   "source": [
    "I am looking for a new appartment in New York and my problem is that I am addicted to coffee and I would like to find a suitable location where I can find the best coffee. My favourite coffee shop is **Starbucks** so **I would like to find and appartment that is very close to a Starbucks cofee** using a data science approach.\n",
    "\n",
    "I will use the Foursquare API to explore the neighborhoods in New York City and I will use its functions to get the distribution of the Starbucks locations in New York and finally I will identify whether the location I am looking for an appartment is the best one, having a Starbucks nearby, or I should look for a different location."
   ]
  },
  {
   "cell_type": "markdown",
   "metadata": {},
   "source": [
    "# 2. Description of the data and how it will be used to solve the problem <a id=\"4\"></a>"
   ]
  },
  {
   "cell_type": "markdown",
   "metadata": {},
   "source": [
    "For this project it will be utilised the dataset from New York available in the following link. \n",
    "\n",
    "Link: https://geo.nyu.edu/catalog/nyu_2451_34572\n",
    "\n",
    "It will be also used a random location for an appartment in order to measure the distance between this apparment and the nearest Starbucks coffee shop.\n",
    "\n",
    "Once the dataset from New York is extracted and processed, the Starbucks coffee shops of New York will be displayed in a map and after that it will be measured the distance between the appartment and the nearest Starbucks coffee shop."
   ]
  }
 ],
 "metadata": {
  "kernelspec": {
   "display_name": "Python 3",
   "language": "python",
   "name": "python3"
  },
  "language_info": {
   "codemirror_mode": {
    "name": "ipython",
    "version": 3
   },
   "file_extension": ".py",
   "mimetype": "text/x-python",
   "name": "python",
   "nbconvert_exporter": "python",
   "pygments_lexer": "ipython3",
   "version": "3.6.8"
  },
  "widgets": {
   "state": {},
   "version": "1.1.2"
  }
 },
 "nbformat": 4,
 "nbformat_minor": 2
}
